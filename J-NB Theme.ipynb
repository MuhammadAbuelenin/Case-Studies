{
 "cells": [
  {
   "cell_type": "code",
   "execution_count": 2,
   "id": "5575a843",
   "metadata": {},
   "outputs": [],
   "source": [
    "# to install the package\n",
    "# pip install jupyterthemes"
   ]
  },
  {
   "cell_type": "code",
   "execution_count": 6,
   "id": "adec6c58",
   "metadata": {},
   "outputs": [
    {
     "name": "stdout",
     "output_type": "stream",
     "text": [
      "Available Themes: \n",
      "   chesterish\n",
      "   grade3\n",
      "   gruvboxd\n",
      "   gruvboxl\n",
      "   monokai\n",
      "   oceans16\n",
      "   onedork\n",
      "   solarizedd\n",
      "   solarizedl\n"
     ]
    }
   ],
   "source": [
    "# to get list\n",
    "!jt -l"
   ]
  },
  {
   "cell_type": "code",
   "execution_count": 4,
   "id": "293201ba",
   "metadata": {},
   "outputs": [],
   "source": [
    "# to refrest\n",
    "# !jt -r"
   ]
  },
  {
   "cell_type": "code",
   "execution_count": 5,
   "id": "c0768027",
   "metadata": {},
   "outputs": [],
   "source": [
    "# for normal theme\n",
    "# !jt -t monokai"
   ]
  },
  {
   "cell_type": "code",
   "execution_count": 6,
   "id": "2c4adf14",
   "metadata": {},
   "outputs": [],
   "source": [
    "# Amazing and cool settings\n",
    "# !jt -t chesterish -f fira -fs 10 -nf ptsans -nfs 11 -N -kl -cursw 2 -cursc r -cellw 95% -T"
   ]
  }
 ],
 "metadata": {
  "kernelspec": {
   "display_name": "Python 3",
   "language": "python",
   "name": "python3"
  },
  "language_info": {
   "codemirror_mode": {
    "name": "ipython",
    "version": 3
   },
   "file_extension": ".py",
   "mimetype": "text/x-python",
   "name": "python",
   "nbconvert_exporter": "python",
   "pygments_lexer": "ipython3",
   "version": "3.8.8"
  }
 },
 "nbformat": 4,
 "nbformat_minor": 5
}
